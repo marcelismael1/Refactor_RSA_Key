{
 "cells": [
  {
   "cell_type": "code",
   "execution_count": 260,
   "metadata": {},
   "outputs": [],
   "source": [
    "from math import sqrt\n",
    "from random import randint\n",
    "#####################################################################################################################\n",
    "#Greatest Common Divisor\n",
    "# Euclid's Algorithm.\n",
    "def gcd(a, b):\n",
    "    num = [a, b]\n",
    "    num.sort()\n",
    "    while num[0] * num[1] > 0:\n",
    "        num[1] -= num[0]\n",
    "        num.sort()\n",
    "        if num[0] == num[1]:\n",
    "            return num[0]\n",
    "    print('The 2 numbers dont have gcd')\n",
    "\n",
    "#print(gcd(66528,52920))\n",
    "#========================================================#\n",
    "#Extended GCD\n",
    "def get_divisors(a):\n",
    "    d = [i  for i in range(1,a+1) if a%i == 0]\n",
    "    return d\n",
    "\n",
    "#Python program for Extended Euclidean algorithm\n",
    "def egcd(a, b):\n",
    "    if a == 0:\n",
    "        return (b, 0, 1)\n",
    "    else:\n",
    "        gcd, x, y = egcd(b % a, a)\n",
    "        return (gcd, y - (b//a) * x, x)\n",
    "    \n",
    "    \n",
    " #####################################################################################################################   \n",
    "def check_prime(N = 1):\n",
    "    if N<=3:\n",
    "        return True\n",
    "    else:\n",
    "        for n in range(2,int((N**0.5)+1)):\n",
    "            if N%n == 0:\n",
    "                return False\n",
    "        else:\n",
    "            return True\n",
    "\n",
    "def gen_prime_factors(N = 1):\n",
    "    primes = []\n",
    "    for n in range(2,N+1):\n",
    "        if check_prime(n):\n",
    "            primes.append(n)\n",
    "    return primes\n",
    "#####################################################################################################################\n",
    "def factorize (n ,b):\n",
    "    '''\n",
    "    This function will take a number n and list of primes\n",
    "    and it wull refactor n to and return a dict\n",
    "    '''\n",
    "    N = n\n",
    "    result = dict(list(zip(B,[0 for _ in range(len(B))]))) \n",
    "    i = 0\n",
    "    while (N!=1) and not(check_prime(N) and (N not in result.keys())):\n",
    "        for k in result:\n",
    "            if N%k == 0:\n",
    "                N -=  (N - (N/k))\n",
    "                result[k] +=1\n",
    "            elif i == 0 and len(set(result.values())) != len(b):\n",
    "                N = 1\n",
    "                break           \n",
    "        i+=1\n",
    "    return result   "
   ]
  },
  {
   "cell_type": "code",
   "execution_count": 170,
   "metadata": {},
   "outputs": [
    {
     "data": {
      "text/plain": [
       "{2: 6, 3: 1, 5: 2, 7: 1}"
      ]
     },
     "execution_count": 170,
     "metadata": {},
     "output_type": "execute_result"
    }
   ],
   "source": [
    "factorize(33600,B)"
   ]
  },
  {
   "cell_type": "code",
   "execution_count": 171,
   "metadata": {},
   "outputs": [],
   "source": [
    "pq0 = (271,139)\n",
    "n0 = pq0[0]*pq0[1]"
   ]
  },
  {
   "cell_type": "code",
   "execution_count": 172,
   "metadata": {},
   "outputs": [],
   "source": [
    "pq1 = (4715832397,5476546811)\n",
    "n1 = pq1[0]*pq1[1]"
   ]
  },
  {
   "cell_type": "code",
   "execution_count": 173,
   "metadata": {},
   "outputs": [],
   "source": [
    "pq2 = (47217592089965824021278357521901144689506741271419, 19244123869039008990587632107835659152065053045809)\n",
    "n2  = pq2[0] * pq2[1] "
   ]
  },
  {
   "cell_type": "code",
   "execution_count": 275,
   "metadata": {
    "scrolled": false
   },
   "outputs": [
    {
     "name": "stdout",
     "output_type": "stream",
     "text": [
      "2 2.0\n",
      "3 1.0\n",
      "5 2.0\n",
      "7 1.0\n"
     ]
    }
   ],
   "source": [
    "B = gen_prime_factors(7)\n",
    "N = 84923\n",
    "first_num = int(sqrt(N))\n",
    "yy = []\n",
    "xx = []\n",
    "while True:\n",
    "    i = randint(first_num , N+1)\n",
    "    if len(xx) !=2:\n",
    "        factorized = factorize((i**2)%N,B)\n",
    "        if 0 not in set(factorized.values()):\n",
    "            xx.append(i)\n",
    "            yy.append(factorized)\n",
    "    else:\n",
    "        break\n",
    "\n",
    "y = 1\n",
    "z = [(j+i)/2 for j,i in zip(list(yy[0].values()),list(yy[1].values()))]\n",
    "for i in range(len(B)):\n",
    "    print(B[i],z[i] )\n",
    "    y*= B[i]**z[i]   \n",
    "x = (xx[0]*xx[1])%N"
   ]
  },
  {
   "cell_type": "code",
   "execution_count": 289,
   "metadata": {},
   "outputs": [
    {
     "name": "stdout",
     "output_type": "stream",
     "text": [
      "2 5.0\n",
      "3 1.0\n",
      "5 2.0\n",
      "7 1.0\n"
     ]
    }
   ],
   "source": [
    "y = 1\n",
    "z = [(j+i)/2 for j,i in zip(list(yy[0].values()),list(yy[1].values()))]\n",
    "for i in range(len(B)):\n",
    "    print(B[i],z[i] )\n",
    "    y*= B[i]**z[i]   \n",
    "x = (xx[0]*xx[1])%N"
   ]
  },
  {
   "cell_type": "code",
   "execution_count": 290,
   "metadata": {},
   "outputs": [
    {
     "name": "stdout",
     "output_type": "stream",
     "text": [
      "[513, 537] [{2: 4, 3: 1, 5: 2, 7: 1}, {2: 6, 3: 1, 5: 2, 7: 1}]\n",
      "[5.0, 1.0, 2.0, 1.0]\n",
      "20712 16800.0\n"
     ]
    }
   ],
   "source": [
    "print(xx,yy)\n",
    "print(z)\n",
    "print(x,y)"
   ]
  },
  {
   "cell_type": "code",
   "execution_count": 291,
   "metadata": {},
   "outputs": [
    {
     "name": "stdout",
     "output_type": "stream",
     "text": [
      "(163.0, 521.0)\n"
     ]
    }
   ],
   "source": [
    "qp = (gcd(x-y, N) , gcd(x+y, N))\n",
    "print(qp)"
   ]
  },
  {
   "cell_type": "code",
   "execution_count": 274,
   "metadata": {},
   "outputs": [
    {
     "data": {
      "text/plain": [
       "1680"
      ]
     },
     "execution_count": 274,
     "metadata": {},
     "output_type": "execute_result"
    }
   ],
   "source": [
    "2*2*2*2*3*5*7"
   ]
  },
  {
   "cell_type": "code",
   "execution_count": 287,
   "metadata": {},
   "outputs": [],
   "source": [
    "B = gen_prime_factors(7)\n",
    "N = 84923\n",
    "first_num = int(sqrt(N))\n",
    "yy = []\n",
    "xx = []\n",
    "for i in range(first_num , N+1):\n",
    "    if len(xx) != 2:\n",
    "        factorized = factorize((i**2)%N,B)\n",
    "        if 0 not in set(factorized.values()):\n",
    "            xx.append(i)\n",
    "            yy.append(factorized)\n",
    "    else:\n",
    "        break"
   ]
  },
  {
   "cell_type": "code",
   "execution_count": 288,
   "metadata": {},
   "outputs": [
    {
     "data": {
      "text/plain": [
       "[513, 537]"
      ]
     },
     "execution_count": 288,
     "metadata": {},
     "output_type": "execute_result"
    }
   ],
   "source": [
    "xx"
   ]
  },
  {
   "cell_type": "code",
   "execution_count": null,
   "metadata": {},
   "outputs": [],
   "source": []
  }
 ],
 "metadata": {
  "kernelspec": {
   "display_name": "Python 3",
   "language": "python",
   "name": "python3"
  },
  "language_info": {
   "codemirror_mode": {
    "name": "ipython",
    "version": 3
   },
   "file_extension": ".py",
   "mimetype": "text/x-python",
   "name": "python",
   "nbconvert_exporter": "python",
   "pygments_lexer": "ipython3",
   "version": "3.7.4"
  }
 },
 "nbformat": 4,
 "nbformat_minor": 2
}
