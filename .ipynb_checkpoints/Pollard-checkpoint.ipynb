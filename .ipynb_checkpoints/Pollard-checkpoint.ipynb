{
 "cells": [
  {
   "cell_type": "code",
   "execution_count": 98,
   "metadata": {},
   "outputs": [],
   "source": [
    "from math import factorial, gcd,sqrt\n",
    "\n",
    "'''\n",
    "http://robin.pollak.io/wizard_factoring.pdf\n",
    "'''\n",
    "\n",
    "pq1 = (4715832397,5476546811)\n",
    "n1 = pq1[0]*pq1[1]\n",
    "\n",
    "pq2 = (47217592089965824021278357521901144689506741271419, 19244123869039008990587632107835659152065053045809)\n",
    "n2  = pq2[0] * pq2[1] \n",
    "\n",
    "pq3 = (9748732579,6892276889)\n",
    "n3 = pq3[0] * pq3[1] \n",
    "\n",
    "pq1 = (471841,270689)\n",
    "n1 = pq1[0]*pq1[1]\n",
    "n4 = 1035896947 *3500688283\n",
    "n = 11321*22943\n",
    "n = 94343*23143\n",
    "n = 265627574679252366825744422718712249471\n",
    "\n",
    "\n",
    "\n",
    "\n",
    "#n =n4\n",
    "a = 2\n",
    "i = 2\n",
    "d = 1"
   ]
  },
  {
   "cell_type": "code",
   "execution_count": null,
   "metadata": {},
   "outputs": [],
   "source": [
    "for a in range(0,n):\n",
    "    i = 2\n",
    "    d = 1\n",
    "    # Pollard is fast for values of p which has small factors\n",
    "    # So I decided to limit the search till 10\n",
    "    while d<=1 and i<7:\n",
    "        f= (a**factorial(i)-1)%n\n",
    "        d = gcd(f,n)\n",
    "        #print((a**factorial(i)-1)%n)\n",
    "        i+=1\n",
    "    if d > 1 and d != n:\n",
    "        p = d\n",
    "        q = int(n/d)\n",
    "        print(f\"p: {p} and q: {q} || a : {a} \")\n",
    "        break"
   ]
  },
  {
   "cell_type": "code",
   "execution_count": null,
   "metadata": {},
   "outputs": [],
   "source": [
    "2 ** 479001600"
   ]
  },
  {
   "cell_type": "code",
   "execution_count": 10,
   "metadata": {},
   "outputs": [],
   "source": [
    "pq1 = (4715832397,5476546811)\n",
    "n1 = pq1[0]*pq1[1]"
   ]
  }
 ],
 "metadata": {
  "kernelspec": {
   "display_name": "Python 3",
   "language": "python",
   "name": "python3"
  },
  "language_info": {
   "codemirror_mode": {
    "name": "ipython",
    "version": 3
   },
   "file_extension": ".py",
   "mimetype": "text/x-python",
   "name": "python",
   "nbconvert_exporter": "python",
   "pygments_lexer": "ipython3",
   "version": "3.7.4"
  }
 },
 "nbformat": 4,
 "nbformat_minor": 2
}
