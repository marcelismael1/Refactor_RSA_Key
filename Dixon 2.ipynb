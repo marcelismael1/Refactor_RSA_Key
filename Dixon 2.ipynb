{
 "cells": [
  {
   "cell_type": "code",
   "execution_count": 5,
   "metadata": {},
   "outputs": [],
   "source": [
    "pq1 = (4715832397,5476546811)\n",
    "n1 = pq1[0]*pq1[1]"
   ]
  },
  {
   "cell_type": "code",
   "execution_count": 6,
   "metadata": {},
   "outputs": [
    {
     "ename": "KeyboardInterrupt",
     "evalue": "",
     "output_type": "error",
     "traceback": [
      "\u001b[1;31m---------------------------------------------------------------------------\u001b[0m",
      "\u001b[1;31mKeyboardInterrupt\u001b[0m                         Traceback (most recent call last)",
      "\u001b[1;32m<ipython-input-6-2256beec2218>\u001b[0m in \u001b[0;36m<module>\u001b[1;34m\u001b[0m\n\u001b[0;32m     52\u001b[0m \u001b[1;31m# Driver Code\u001b[0m\u001b[1;33m\u001b[0m\u001b[1;33m\u001b[0m\u001b[1;33m\u001b[0m\u001b[0m\n\u001b[0;32m     53\u001b[0m \u001b[1;32mif\u001b[0m \u001b[0m__name__\u001b[0m \u001b[1;33m==\u001b[0m \u001b[1;34m\"__main__\"\u001b[0m\u001b[1;33m:\u001b[0m\u001b[1;33m\u001b[0m\u001b[1;33m\u001b[0m\u001b[0m\n\u001b[1;32m---> 54\u001b[1;33m     \u001b[0mprint\u001b[0m\u001b[1;33m(\u001b[0m\u001b[0mfactor\u001b[0m\u001b[1;33m(\u001b[0m\u001b[0mn1\u001b[0m\u001b[1;33m)\u001b[0m\u001b[1;33m)\u001b[0m\u001b[1;33m\u001b[0m\u001b[1;33m\u001b[0m\u001b[0m\n\u001b[0m",
      "\u001b[1;32m<ipython-input-6-2256beec2218>\u001b[0m in \u001b[0;36mfactor\u001b[1;34m(n)\u001b[0m\n\u001b[0;32m     24\u001b[0m         \u001b[1;31m# Finding the related squares\u001b[0m\u001b[1;33m\u001b[0m\u001b[1;33m\u001b[0m\u001b[1;33m\u001b[0m\u001b[0m\n\u001b[0;32m     25\u001b[0m         \u001b[1;32mfor\u001b[0m \u001b[0mj\u001b[0m \u001b[1;32min\u001b[0m \u001b[0mrange\u001b[0m\u001b[1;33m(\u001b[0m\u001b[0mlen\u001b[0m\u001b[1;33m(\u001b[0m\u001b[0mbase\u001b[0m\u001b[1;33m)\u001b[0m\u001b[1;33m)\u001b[0m\u001b[1;33m:\u001b[0m\u001b[1;33m\u001b[0m\u001b[1;33m\u001b[0m\u001b[0m\n\u001b[1;32m---> 26\u001b[1;33m             \u001b[0mlhs\u001b[0m \u001b[1;33m=\u001b[0m \u001b[0mi\u001b[0m\u001b[1;33m**\u001b[0m\u001b[1;36m2\u001b[0m \u001b[1;33m%\u001b[0m \u001b[0mn\u001b[0m\u001b[1;33m\u001b[0m\u001b[1;33m\u001b[0m\u001b[0m\n\u001b[0m\u001b[0;32m     27\u001b[0m             \u001b[0mrhs\u001b[0m \u001b[1;33m=\u001b[0m \u001b[0mbase\u001b[0m\u001b[1;33m[\u001b[0m\u001b[0mj\u001b[0m\u001b[1;33m]\u001b[0m\u001b[1;33m**\u001b[0m\u001b[1;36m2\u001b[0m \u001b[1;33m%\u001b[0m \u001b[0mn\u001b[0m\u001b[1;33m\u001b[0m\u001b[1;33m\u001b[0m\u001b[0m\n\u001b[0;32m     28\u001b[0m \u001b[1;33m\u001b[0m\u001b[0m\n",
      "\u001b[1;31mKeyboardInterrupt\u001b[0m: "
     ]
    }
   ],
   "source": [
    "# Python 3 implementation of Dixon factorization algo \n",
    "  \n",
    "from math import sqrt, gcd \n",
    "import numpy as np \n",
    "  \n",
    "# Function to find the factors of a number \n",
    "# using the Dixon Factorization Algorithm \n",
    "def factor(n): \n",
    "  \n",
    "    # Factor base for the given number \n",
    "    base = [2, 3, 5, 7] \n",
    "  \n",
    "    # Starting from the ceil of the root \n",
    "    # of the given number N \n",
    "    start = int(sqrt(n)) \n",
    "  \n",
    "    # Storing the related squares \n",
    "    pairs = [] \n",
    "  \n",
    "    # For every number from the square root  \n",
    "    # Till N \n",
    "    for i in range(start, n): \n",
    "  \n",
    "        # Finding the related squares  \n",
    "        for j in range(len(base)): \n",
    "            lhs = i**2 % n \n",
    "            rhs = base[j]**2 % n \n",
    "              \n",
    "            # If the two numbers are the  \n",
    "            # related squares, then append \n",
    "            # them to the array  \n",
    "            if(lhs == rhs): \n",
    "                pairs.append([i, base[j]]) \n",
    "  \n",
    "    new = [] \n",
    "  \n",
    "    # For every pair in the array, compute the  \n",
    "    # GCD such that  \n",
    "    for i in range(len(pairs)): \n",
    "        factor = gcd(pairs[i][0] - pairs[i][1], n) \n",
    "          \n",
    "        # If we find a factor other than 1, then  \n",
    "        # appending it to the final factor array \n",
    "        if(factor != 1): \n",
    "            new.append(factor) \n",
    "  \n",
    "    x = np.array(new) \n",
    "  \n",
    "    # Returning the unique factors in the array \n",
    "    return(np.unique(x)) \n",
    "  \n",
    "# Driver Code \n",
    "if __name__ == \"__main__\": \n",
    "    print(factor(n1)) "
   ]
  },
  {
   "cell_type": "code",
   "execution_count": null,
   "metadata": {},
   "outputs": [],
   "source": [
    "#!/usr/bin/python\n",
    "\n",
    "import threading\n",
    "import time\n",
    "\n",
    "# Define a function for the thread\n",
    "def print_time( threadName, delay):\n",
    "    \n",
    "    count = 0\n",
    "    while count < 5:\n",
    "        time.sleep(delay)\n",
    "        count += 1\n",
    "        print (\"%s: %s\" % ( threadName, time.ctime(time.time()) ))\n",
    "\n",
    "# Create two threads as follows\n",
    "try:\n",
    "    threading.start_new_thread( print_time, (\"Thread-1\", 2, ) )\n",
    "    threading.start_new_thread( print_time, (\"Thread-2\", 4, ) )\n",
    "except:\n",
    "    print (\"Error: unable to start thread\")\n",
    "\n",
    "while 1:\n",
    "    pass"
   ]
  },
  {
   "cell_type": "code",
   "execution_count": 6,
   "metadata": {},
   "outputs": [
    {
     "data": {
      "text/plain": [
       "21991232899020757527160806294907246615384288441948247453139015162348797134365306142134505845436460475064945509973870362751403281135059838949186123348618053217022945188889634573956915926416653195616309204325328252815647264056633604993468694852020117171569091929721868591995600280082683533088659679813686204937256540619721697493456385133303420858451031499506474402883292843821146488666418177479829928893480579480848784309038229900885523640892056815930193099513626444255487794923088854434249358874204687142979973484982233411108239979964487613879689470088850733042295606449765785757691256912171777992154513430208873234432"
      ]
     },
     "execution_count": 6,
     "metadata": {},
     "output_type": "execute_result"
    }
   ],
   "source": [
    "289808331960851737771759803525087737335855755367096019474685543005145912741210826243913523913735837567991589842550928695116960878879769477359746539719590978358151867193191260774291907964146799773722581429252590602423600156461241891433764242585143412511606610899753360453071807137080934400000000000000000000001*75881989831787878215648728649499681690854808858496793136795871378931728822274566864571416089828232874395414362770125675370496159429495461881903605216419521418297480170293451163602764093287723035772556697693182309208177001980802645418095230941106967241799662682440317335302485823358517192154513430208873234432"
   ]
  },
  {
   "cell_type": "code",
   "execution_count": 4,
   "metadata": {},
   "outputs": [
    {
     "data": {
      "text/plain": [
       "24430436836352483797063096106414774550335403158860524990373856944254297586018983298705492233654830523199692736514219239319146510300625339876324647894404893431924815784960576423322270642064447439532880084271906506181596791330255472317736274838975886982878636272375371266076163692482358755032762905350584467818322896256697824686362875462689754439034305568485764372282041358336076968265549938271297558180529807346415680592340188076635410423523198461463168140415659131710799290510682225326203262832075315314659506065014839527357257670962979561415126272979988642044180466409976304796211964778255235614585976098809592350027"
      ]
     },
     "execution_count": 4,
     "metadata": {},
     "output_type": "execute_result"
    }
   ],
   "source": [
    "24430436836352483797063096106414774550335403158860524990373856944254297586018983298705492233654830523199692736514219239319146510300625339876324647894404893431924815784960576423322270642064447439532880084271906506181596791330255472317736274838975886982878636272375371266076163692482358755032762905350584467818322896256697824686362875462689754439034305568485764372282041358336076968265549938271297558180529807346415680592340188076635410423523198461463168140415659131710799290510682225326203262832075315314659506065014839527357257670962979561415126272979988642044180466409976304796211964778255235614585976098809592350027"
   ]
  },
  {
   "cell_type": "code",
   "execution_count": null,
   "metadata": {},
   "outputs": [],
   "source": []
  }
 ],
 "metadata": {
  "kernelspec": {
   "display_name": "Python 3",
   "language": "python",
   "name": "python3"
  },
  "language_info": {
   "codemirror_mode": {
    "name": "ipython",
    "version": 3
   },
   "file_extension": ".py",
   "mimetype": "text/x-python",
   "name": "python",
   "nbconvert_exporter": "python",
   "pygments_lexer": "ipython3",
   "version": "3.7.4"
  }
 },
 "nbformat": 4,
 "nbformat_minor": 2
}
