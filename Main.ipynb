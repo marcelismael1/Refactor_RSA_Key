{
 "cells": [
  {
   "cell_type": "code",
   "execution_count": 11,
   "metadata": {},
   "outputs": [
    {
     "name": "stdout",
     "output_type": "stream",
     "text": [
      " Enter N to refactor:5\n",
      " Enter e Exponent:5\n",
      "Refactoring N with Wiener Method:\n",
      "Wiener Method finished, Failed\n"
     ]
    }
   ],
   "source": [
    "from wiener import solve_wiener\n",
    "from pollard import solve_pollard\n",
    "\n",
    "\n",
    "if __name__ == \"__main__\":\n",
    "    while True:\n",
    "        try:\n",
    "            n = int(input(\" Enter N to refactor:\"))\n",
    "            e = int(input(\" Enter e Exponent:\"))\n",
    "            break\n",
    "        except:\n",
    "            pass\n",
    "    \n",
    "    # Check if e is big run wiener (d must be larg)\n",
    "    if e > (n//8):\n",
    "        pq = solve_wiener(n,e)\n",
    "        if pq:\n",
    "            print (\"p = \", pq['p'])\n",
    "            print (\"q = \", pq['q'])\n",
    "        else:\n",
    "            pq = solve_pollard(n)\n",
    "            if pq:\n",
    "                print (\"p = \", pq['p'])\n",
    "                print (\"q = \", pq['q'])\n",
    "        else:\n",
    "            print (\" Dixon\")\n",
    "    \n",
    "    # Case e is small\n",
    "    else:\n",
    "        pq = solve_pollard(n)\n",
    "        if pq:\n",
    "            print (\"p = \", pq['p'])\n",
    "            print (\"q = \", pq['q'])\n",
    "        else:\n",
    "            print (\" Dixon\")"
   ]
  }
 ],
 "metadata": {
  "kernelspec": {
   "display_name": "Python 3",
   "language": "python",
   "name": "python3"
  },
  "language_info": {
   "codemirror_mode": {
    "name": "ipython",
    "version": 3
   },
   "file_extension": ".py",
   "mimetype": "text/x-python",
   "name": "python",
   "nbconvert_exporter": "python",
   "pygments_lexer": "ipython3",
   "version": "3.7.4"
  }
 },
 "nbformat": 4,
 "nbformat_minor": 2
}
